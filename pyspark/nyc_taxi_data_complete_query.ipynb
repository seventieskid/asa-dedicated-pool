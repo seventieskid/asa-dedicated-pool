{
  "cells": [
    {
      "cell_type": "code",
      "execution_count": null,
      "metadata": {
        "collapsed": false,
        "jupyter": {
          "outputs_hidden": false,
          "source_hidden": false
        },
        "microsoft": {
          "language": "python"
        },
        "nteract": {
          "transient": {
            "deleting": false
          }
        }
      },
      "outputs": [],
      "source": [
        "%%pyspark\n",
        "df = spark.sql(\"\"\"\n",
        "SELECT \n",
        "    t.*\n",
        "FROM\n",
        "(\n",
        "SELECT *,\n",
        "    DATEDIFF(SECOND, pickup_datetime, dropoff_datetime) as time_duration_in_secs,\n",
        "    ROUND(trip_distance/DATEDIFF(SECOND, pickup_datetime, dropoff_datetime),2)*3600 as driving_speed_miles_per_hour,\n",
        "    (CASE WHEN total_amount=0 THEN 0\n",
        "    ELSE ROUND(tip_amount*100/total_amount,2) END) as tip_rate,\n",
        "    DATE_FORMAT(pickup_datetime, \"yyyy\") as pickup_year,\n",
        "    DATE_FORMAT(pickup_datetime, \"MM\") as pickup_month,\n",
        "    CONCAT(CAST(DATE_FORMAT(pickup_datetime, \"yyyy\") as STRING),\"-\",CAST(DATE_FORMAT(pickup_datetime, \"MM\") AS STRING)) as pickup_yearmonth,\n",
        "    DATE_FORMAT(pickup_datetime, \"yyyyMMdd\") as pickup_date,\n",
        "    DATE_FORMAT(pickup_datetime, \"EEEE\") as pickup_weekday_name,\n",
        "    DATE_FORMAT(pickup_datetime, \"hh\") as pickup_hour,\n",
        "    DATE_FORMAT(dropoff_datetime, \"yyyy\") as dropoff_year,\n",
        "    DATE_FORMAT(dropoff_datetime, \"MM\") as dropoff_month,\n",
        "    CONCAT(CAST(DATE_FORMAT(dropoff_datetime, \"yyyy\") as STRING),\"-\",CAST(DATE_FORMAT(dropoff_datetime, \"MM\") AS STRING)) as dropoff_yearmonth,\n",
        "    DATE_FORMAT(dropoff_datetime, \"yyyyMMdd\") as dropoff_date,\n",
        "    DATE_FORMAT(dropoff_datetime, \"EEEE\") as dropoff_weekday_name,\n",
        "    DATE_FORMAT(dropoff_datetime, \"hh\") as dropoff_hour\n",
        "FROM new_york.tlc_yellow_trips_2016\n",
        "/* filter by latitude & longitude that are within the correct range */\n",
        "WHERE \n",
        "  ((pickup_latitude BETWEEN -90 AND 90) AND\n",
        "  (pickup_longitude BETWEEN -180 AND 180)) \n",
        "AND\n",
        "  ((dropoff_latitude BETWEEN -90 AND 90) AND\n",
        "  (dropoff_longitude BETWEEN -180 AND 180))\n",
        ") t\n",
        "WHERE \n",
        "    pickup_datetime BETWEEN '2016-01-01' AND '2016-12-31' \n",
        "    AND dropoff_datetime BETWEEN '2016-01-01' AND '2016-12-31'\n",
        "    AND DATEDIFF(SECOND, pickup_datetime,dropoff_datetime) > 0\n",
        "    AND passenger_count > 0\n",
        "    AND trip_distance >= 0 \n",
        "    AND tip_amount >= 0 \n",
        "    AND tolls_amount >= 0 \n",
        "    AND mta_tax >= 0 \n",
        "    AND fare_amount >= 0\n",
        "    AND total_amount >= 0\n",
        "\"\"\") \n",
        "display(df)"
      ]
    }
  ],
  "metadata": {
    "description": null,
    "kernel_info": {
      "name": "synapse_pyspark"
    },
    "kernelspec": {
      "display_name": "Synapse PySpark",
      "language": "Python",
      "name": "synapse_pyspark"
    },
    "language_info": {
      "name": "python"
    },
    "save_output": true,
    "synapse_widget": {
      "state": {
        "acc0a4bd-1a7f-4ade-b2d5-4d48a8345fa8": {
          "persist_state": {
            "view": {
              "chartOptions": {
                "aggregationType": "count",
                "categoryFieldKeys": [
                  "0"
                ],
                "chartType": "bar",
                "isStacked": false,
                "seriesFieldKeys": [
                  "0"
                ]
              },
              "tableOptions": {},
              "type": "details"
            }
          },
          "sync_state": {
            "isSummary": false,
            "language": "scala",
            "table": {
              "rows": [
                {
                  "0": "-0.00674699991941452",
                  "1": "38.896591186523438",
                  "2": "-77.03948974609375",
                  "3": "78.5863265991211"
                }
              ],
              "schema": [
                {
                  "key": "0",
                  "name": "min_long",
                  "type": "string"
                },
                {
                  "key": "1",
                  "name": "max_long",
                  "type": "string"
                },
                {
                  "key": "2",
                  "name": "min_lat",
                  "type": "string"
                },
                {
                  "key": "3",
                  "name": "max_lat",
                  "type": "string"
                }
              ],
              "truncated": false
            },
            "wranglerEntryContext": {
              "candidateVariableNames": [
                "df"
              ],
              "dataframeType": "pyspark"
            }
          },
          "type": "Synapse.DataFrame"
        }
      },
      "version": "0.1"
    }
  },
  "nbformat": 4,
  "nbformat_minor": 2
}
