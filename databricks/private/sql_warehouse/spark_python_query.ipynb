{
 "cells": [
  {
   "cell_type": "code",
   "execution_count": 0,
   "metadata": {
    "application/vnd.databricks.v1+cell": {
     "cellMetadata": {
      "byteLimit": 2048000,
      "rowLimit": 10000
     },
     "inputWidgets": {},
     "nuid": "6955476a-d275-451a-9ddd-a98f7d6575ed",
     "showTitle": false,
     "tableResultSettingsMap": {},
     "title": ""
    }
   },
   "outputs": [],
   "source": [
    "import time\n",
    "start_time = time.time()\n",
    "\n",
    "df = spark.sql(\"\"\"\n",
    "SELECT\n",
    "     \n",
    "    COUNT(*)\n",
    "FROM\n",
    "(\n",
    "SELECT *,\n",
    "    DATEDIFF(SECOND, pickup_datetime, dropoff_datetime) as time_duration_in_secs,\n",
    "    ROUND(trip_distance/DATEDIFF(SECOND, pickup_datetime, dropoff_datetime),2)*3600 as driving_speed_miles_per_hour,\n",
    "    (CASE WHEN total_amount=0 THEN 0\n",
    "    ELSE ROUND(tip_amount*100/total_amount,2) END) as tip_rate,\n",
    "    DATE_FORMAT(pickup_datetime, \"yyyy\") as pickup_year,\n",
    "    DATE_FORMAT(pickup_datetime, \"MM\") as pickup_month,\n",
    "    CONCAT(CAST(DATE_FORMAT(pickup_datetime, \"yyyy\") as STRING),\"-\",CAST(DATE_FORMAT(pickup_datetime, \"MM\") AS STRING)) as pickup_yearmonth,\n",
    "    DATE_FORMAT(pickup_datetime, \"yyyyMMdd\") as pickup_date,\n",
    "    DATE_FORMAT(pickup_datetime, \"EEEE\") as pickup_weekday_name,\n",
    "    DATE_FORMAT(pickup_datetime, \"hh\") as pickup_hour,\n",
    "    DATE_FORMAT(dropoff_datetime, \"yyyy\") as dropoff_year,\n",
    "    DATE_FORMAT(dropoff_datetime, \"MM\") as dropoff_month,\n",
    "    CONCAT(CAST(DATE_FORMAT(dropoff_datetime, \"yyyy\") as STRING),\"-\",CAST(DATE_FORMAT(dropoff_datetime, \"MM\") AS STRING)) as dropoff_yearmonth,\n",
    "    DATE_FORMAT(dropoff_datetime, \"yyyyMMdd\") as dropoff_date,\n",
    "    DATE_FORMAT(dropoff_datetime, \"EEEE\") as dropoff_weekday_name,\n",
    "    DATE_FORMAT(dropoff_datetime, \"hh\") as dropoff_hour\n",
    "FROM azuron_custom.new_york.tlc_yellow_trips_2016\n",
    "/* filter by latitude & longitude that are within the correct range */\n",
    "WHERE \n",
    "  ((pickup_latitude BETWEEN -90 AND 90) AND\n",
    "  (pickup_longitude BETWEEN -180 AND 180)) \n",
    "AND\n",
    "  ((dropoff_latitude BETWEEN -90 AND 90) AND\n",
    "  (dropoff_longitude BETWEEN -180 AND 180))\n",
    ") t\n",
    "WHERE \n",
    "    pickup_datetime BETWEEN '2016-01-01' AND '2016-12-31' \n",
    "    AND dropoff_datetime BETWEEN '2016-01-01' AND '2016-12-31'\n",
    "    AND DATEDIFF(SECOND, pickup_datetime,dropoff_datetime) > 0\n",
    "    AND passenger_count > 0\n",
    "    AND trip_distance >= 0 \n",
    "    AND tip_amount >= 0 \n",
    "    AND tolls_amount >= 0 \n",
    "    AND mta_tax >= 0 \n",
    "    AND fare_amount >= 0\n",
    "    AND total_amount >= 0\n",
    "\"\"\")\n",
    "\n",
    "df.show()\n",
    "\n",
    "print(f\"Execution time: {(time.time() - start_time) * 1000}\")"
   ]
  }
 ],
 "metadata": {
  "application/vnd.databricks.v1+notebook": {
   "computePreferences": null,
   "dashboards": [],
   "environmentMetadata": {
    "base_environment": "",
    "client": "1"
   },
   "language": "python",
   "notebookMetadata": {
    "pythonIndentUnit": 4
   },
   "notebookName": "Untitled Notebook 2025-01-07 16:35:59",
   "widgets": {}
  },
  "language_info": {
   "name": "python"
  }
 },
 "nbformat": 4,
 "nbformat_minor": 0
}
