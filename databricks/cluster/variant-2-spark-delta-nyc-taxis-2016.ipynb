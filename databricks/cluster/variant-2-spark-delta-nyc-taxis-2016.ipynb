{
 "cells": [
  {
   "cell_type": "code",
   "execution_count": null,
   "metadata": {
    "vscode": {
     "languageId": "plaintext"
    }
   },
   "outputs": [],
   "source": [
    "@dlt.table(table_properties={'quality': 'bronze'})\n",
    "def nyc_taxis_2016_from_cluster():\n",
    "  return (\n",
    "     spark.readStream.format('cloudFiles')\n",
    "     .option('cloudFiles.format', 'csv')\n",
    "     .load('abfss://users@azuron.dfs.core.windows.net/nyc-taxis-2016/')\n",
    " )"
   ]
  }
 ],
 "metadata": {
  "language_info": {
   "name": "python"
  }
 },
 "nbformat": 4,
 "nbformat_minor": 2
}
